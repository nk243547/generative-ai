{
 "cells": [
  {
   "cell_type": "code",
   "execution_count": 17,
   "id": "43a9a0a0-b6ff-4aed-997f-8cc90d134ab1",
   "metadata": {},
   "outputs": [
    {
     "name": "stdout",
     "output_type": "stream",
     "text": [
      "=== JAC OUTPUT ===\n",
      "Python is awesome. But, With Jac Python becomes even more awesome.\n",
      "\n"
     ]
    }
   ],
   "source": [
    "%%jac\n",
    "def lovejac() -> str {\n",
    "    return \"With Jac Python becomes even more awesome.\";\n",
    "}\n",
    "\n",
    "with entry {\n",
    "    print(\"Python is awesome. But, \" + lovejac());\n",
    "}"
   ]
  },
  {
   "cell_type": "code",
   "execution_count": 19,
   "id": "60ba6eb7-bf76-44b1-bcce-0222111f04d5",
   "metadata": {},
   "outputs": [
    {
     "data": {
      "text/plain": [
       "'/home/mzalendo/jac-projects'"
      ]
     },
     "execution_count": 19,
     "metadata": {},
     "output_type": "execute_result"
    }
   ],
   "source": [
    "import os\n",
    "os.getcwd()"
   ]
  },
  {
   "cell_type": "code",
   "execution_count": 20,
   "id": "b59303f8-0626-4864-aa43-7e85844648c3",
   "metadata": {},
   "outputs": [
    {
     "data": {
      "text/plain": [
       "['Untitled.ipynb', '.ipynb_checkpoints', 'first.jac']"
      ]
     },
     "execution_count": 20,
     "metadata": {},
     "output_type": "execute_result"
    }
   ],
   "source": [
    "import os\n",
    "os.listdir()"
   ]
  },
  {
   "cell_type": "code",
   "execution_count": 21,
   "id": "91aa8d97-311f-4735-9be6-879fc26c90aa",
   "metadata": {},
   "outputs": [
    {
     "data": {
      "text/plain": [
       "'/home/mzalendo/.local/lib/python3.12/site-packages'"
      ]
     },
     "execution_count": 21,
     "metadata": {},
     "output_type": "execute_result"
    }
   ],
   "source": [
    "import site\n",
    "site.getusersitepackages()"
   ]
  },
  {
   "cell_type": "code",
   "execution_count": 1,
   "id": "fdd9d92b-381e-4707-9c06-254ab280472c",
   "metadata": {},
   "outputs": [
    {
     "name": "stdout",
     "output_type": "stream",
     "text": [
      "Python is awesome. But, With Jac Python becomes even more awesome.\n",
      "Python is awesome. But, With Jac Python becomes even more awesome.\n"
     ]
    }
   ],
   "source": [
    "from first import lovejac\n",
    "\n",
    "print(f\"Python is awesome. But, {lovejac()}\")"
   ]
  },
  {
   "cell_type": "code",
   "execution_count": 3,
   "id": "f6bc4776-a066-44e0-8c04-be6fbea8af33",
   "metadata": {},
   "outputs": [
    {
     "name": "stdout",
     "output_type": "stream",
     "text": [
      "Python is awesome. But, With Jac Python becomes even more awesome.\n"
     ]
    }
   ],
   "source": [
    "import jaclang\n",
    "from first import lovejac\n",
    "\n",
    "print(f\"Python is awesome. But, {lovejac()}\")"
   ]
  },
  {
   "cell_type": "code",
   "execution_count": null,
   "id": "210376c8-a049-4c53-8727-2aa863b8df4e",
   "metadata": {},
   "outputs": [],
   "source": []
  }
 ],
 "metadata": {
  "kernelspec": {
   "display_name": "Python 3 (ipykernel)",
   "language": "python",
   "name": "python3"
  },
  "language_info": {
   "codemirror_mode": {
    "name": "ipython",
    "version": 3
   },
   "file_extension": ".py",
   "mimetype": "text/x-python",
   "name": "python",
   "nbconvert_exporter": "python",
   "pygments_lexer": "ipython3",
   "version": "3.12.11"
  }
 },
 "nbformat": 4,
 "nbformat_minor": 5
}
